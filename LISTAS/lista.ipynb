{
 "cells": [
  {
   "cell_type": "code",
   "execution_count": 1,
   "id": "901a3b9d",
   "metadata": {},
   "outputs": [
    {
     "name": "stdout",
     "output_type": "stream",
     "text": [
      "['banana', 'manga', 'uva', 'abacaxi', 'laranja']\n"
     ]
    }
   ],
   "source": [
    "lista = ['banana', 'manga', 'uva', 'abacaxi', 'laranja']\n",
    "print(lista)"
   ]
  },
  {
   "cell_type": "markdown",
   "id": "319e5b92",
   "metadata": {},
   "source": [
    "Acessando elementos da lista"
   ]
  },
  {
   "cell_type": "code",
   "execution_count": 15,
   "id": "54eea05a",
   "metadata": {},
   "outputs": [
    {
     "name": "stdout",
     "output_type": "stream",
     "text": [
      "morango\n"
     ]
    }
   ],
   "source": [
    "print(lista[0])  # Primeiro elemento"
   ]
  },
  {
   "cell_type": "markdown",
   "id": "0cef722e",
   "metadata": {},
   "source": [
    "Uso do for para iterar sobre os elementos da lista"
   ]
  },
  {
   "cell_type": "code",
   "execution_count": 2,
   "id": "0ae503b3",
   "metadata": {},
   "outputs": [
    {
     "name": "stdout",
     "output_type": "stream",
     "text": [
      "banana\n",
      "manga\n",
      "uva\n",
      "abacaxi\n",
      "laranja\n"
     ]
    }
   ],
   "source": [
    "for item in lista:\n",
    "    print(item)"
   ]
  },
  {
   "cell_type": "markdown",
   "id": "2681eb6a",
   "metadata": {},
   "source": [
    "Como adicionar um elemento à lista"
   ]
  },
  {
   "cell_type": "code",
   "execution_count": 11,
   "id": "2e8014fa",
   "metadata": {},
   "outputs": [
    {
     "name": "stdout",
     "output_type": "stream",
     "text": [
      "['banana', 'manga', 'abacaxi', 'laranja', 'abacate', 'Juvenaldo', 'abacate']\n"
     ]
    }
   ],
   "source": [
    "lista.append('abacate')\n",
    "print(lista)"
   ]
  },
  {
   "cell_type": "markdown",
   "id": "1cc69bb8",
   "metadata": {},
   "source": [
    "Removendo elemento da lista"
   ]
  },
  {
   "cell_type": "code",
   "execution_count": 13,
   "id": "e1850951",
   "metadata": {},
   "outputs": [
    {
     "name": "stdout",
     "output_type": "stream",
     "text": [
      "['banana', 'manga', 'abacaxi', 'laranja', 'Juvenaldo']\n"
     ]
    }
   ],
   "source": [
    "lista.remove('abacate')\n",
    "print(lista)"
   ]
  },
  {
   "cell_type": "markdown",
   "id": "2438de0a",
   "metadata": {},
   "source": [
    "Criaçao de uma copia em lista"
   ]
  },
  {
   "cell_type": "code",
   "execution_count": 8,
   "id": "508e3a92",
   "metadata": {},
   "outputs": [
    {
     "name": "stdout",
     "output_type": "stream",
     "text": [
      "['banana', 'manga', 'abacaxi', 'laranja', 'abacate']\n"
     ]
    }
   ],
   "source": [
    "copiaLista = lista.copy()\n",
    "print(copiaLista)"
   ]
  },
  {
   "cell_type": "code",
   "execution_count": 9,
   "id": "49e05ac0",
   "metadata": {},
   "outputs": [
    {
     "name": "stdout",
     "output_type": "stream",
     "text": [
      "['banana', 'manga', 'abacaxi', 'laranja', 'abacate', 'Juvenaldo']\n"
     ]
    }
   ],
   "source": [
    "lista.append('Juvenaldo')\n",
    "print(lista)"
   ]
  },
  {
   "cell_type": "code",
   "execution_count": 10,
   "id": "0d0f37c6",
   "metadata": {},
   "outputs": [
    {
     "data": {
      "text/plain": [
       "['banana', 'manga', 'abacaxi', 'laranja', 'abacate']"
      ]
     },
     "execution_count": 10,
     "metadata": {},
     "output_type": "execute_result"
    }
   ],
   "source": [
    "copiaLista"
   ]
  }
 ],
 "metadata": {
  "kernelspec": {
   "display_name": "Python 3",
   "language": "python",
   "name": "python3"
  },
  "language_info": {
   "codemirror_mode": {
    "name": "ipython",
    "version": 3
   },
   "file_extension": ".py",
   "mimetype": "text/x-python",
   "name": "python",
   "nbconvert_exporter": "python",
   "pygments_lexer": "ipython3",
   "version": "3.13.5"
  }
 },
 "nbformat": 4,
 "nbformat_minor": 5
}
